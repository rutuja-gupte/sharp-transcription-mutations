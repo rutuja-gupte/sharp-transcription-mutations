{
 "cells": [
  {
   "cell_type": "code",
   "execution_count": 1,
   "id": "b73e54d0-67f7-43c8-add4-9378948c687d",
   "metadata": {},
   "outputs": [],
   "source": [
    "from collections import defaultdict\n",
    "from collections import namedtuple\n",
    "import pandas as pd\n",
    "import json\n",
    "import time"
   ]
  },
  {
   "cell_type": "code",
   "execution_count": 2,
   "id": "fa12b00e-df17-4676-8ef0-e9962ae1b6d5",
   "metadata": {},
   "outputs": [],
   "source": [
    "t0 = time.time()"
   ]
  },
  {
   "cell_type": "code",
   "execution_count": 3,
   "id": "ca73c686-2f9e-4414-b976-de1cac277bfc",
   "metadata": {},
   "outputs": [
    {
     "data": {
      "text/html": [
       "<div>\n",
       "<style scoped>\n",
       "    .dataframe tbody tr th:only-of-type {\n",
       "        vertical-align: middle;\n",
       "    }\n",
       "\n",
       "    .dataframe tbody tr th {\n",
       "        vertical-align: top;\n",
       "    }\n",
       "\n",
       "    .dataframe thead th {\n",
       "        text-align: right;\n",
       "    }\n",
       "</style>\n",
       "<table border=\"1\" class=\"dataframe\">\n",
       "  <thead>\n",
       "    <tr style=\"text-align: right;\">\n",
       "      <th></th>\n",
       "      <th>chr</th>\n",
       "      <th>start</th>\n",
       "      <th>end</th>\n",
       "      <th>strand</th>\n",
       "      <th>type</th>\n",
       "    </tr>\n",
       "  </thead>\n",
       "  <tbody>\n",
       "    <tr>\n",
       "      <th>0</th>\n",
       "      <td>1.0</td>\n",
       "      <td>335</td>\n",
       "      <td>649</td>\n",
       "      <td>+</td>\n",
       "      <td>gene</td>\n",
       "    </tr>\n",
       "    <tr>\n",
       "      <th>1</th>\n",
       "      <td>1.0</td>\n",
       "      <td>538</td>\n",
       "      <td>792</td>\n",
       "      <td>+</td>\n",
       "      <td>gene</td>\n",
       "    </tr>\n",
       "    <tr>\n",
       "      <th>2</th>\n",
       "      <td>1.0</td>\n",
       "      <td>1807</td>\n",
       "      <td>2169</td>\n",
       "      <td>-</td>\n",
       "      <td>gene</td>\n",
       "    </tr>\n",
       "    <tr>\n",
       "      <th>3</th>\n",
       "      <td>1.0</td>\n",
       "      <td>2480</td>\n",
       "      <td>2707</td>\n",
       "      <td>+</td>\n",
       "      <td>gene</td>\n",
       "    </tr>\n",
       "    <tr>\n",
       "      <th>4</th>\n",
       "      <td>1.0</td>\n",
       "      <td>7013</td>\n",
       "      <td>9049</td>\n",
       "      <td>-</td>\n",
       "      <td>gene</td>\n",
       "    </tr>\n",
       "  </tbody>\n",
       "</table>\n",
       "</div>"
      ],
      "text/plain": [
       "   chr  start   end strand  type\n",
       "0  1.0    335   649      +  gene\n",
       "1  1.0    538   792      +  gene\n",
       "2  1.0   1807  2169      -  gene\n",
       "3  1.0   2480  2707      +  gene\n",
       "4  1.0   7013  9049      -  gene"
      ]
     },
     "execution_count": 3,
     "metadata": {},
     "output_type": "execute_result"
    }
   ],
   "source": [
    "feat = pd.read_table(\"clean/features.txt\", sep=' ')\n",
    "feat.head()"
   ]
  },
  {
   "cell_type": "markdown",
   "id": "4af795cd-a3dd-4b09-88ce-c352d36d2b6e",
   "metadata": {},
   "source": [
    "Defining a namedtuple here that will be used for the features. Adding an antisense boolean attribute to differentiate between sense and antisense promotion."
   ]
  },
  {
   "cell_type": "code",
   "execution_count": 4,
   "id": "2e174706-553f-44f4-a020-f05ba8becb7e",
   "metadata": {},
   "outputs": [],
   "source": [
    "Feat = namedtuple('Feat', ['chr', 'start', 'end', 'strand', 'type', 'antisense'], defaults = (False,))"
   ]
  },
  {
   "cell_type": "markdown",
   "id": "21a6407e-e1be-44c4-8241-25b293f8d17e",
   "metadata": {},
   "source": [
    "Create a dictionary containing every position of each feature. Key is (chromosome, position, strand) and value is a list of namedtuples Feat."
   ]
  },
  {
   "cell_type": "code",
   "execution_count": 5,
   "id": "d898c1f8-487a-4cc9-9929-73ab90bc7e51",
   "metadata": {},
   "outputs": [],
   "source": [
    "pos = defaultdict(list)\n",
    "for row in feat.itertuples(index=False):\n",
    "    for i in range(row.start, row.end+1):\n",
    "        item = Feat(row.chr, row.start, row.end, row.strand, row.type)\n",
    "        pos[(row.chr, i, row.strand)].append(item)"
   ]
  },
  {
   "cell_type": "code",
   "execution_count": 6,
   "id": "bf8c42d4-9520-405f-a04a-fa85bd98b98c",
   "metadata": {},
   "outputs": [
    {
     "data": {
      "text/html": [
       "<div>\n",
       "<style scoped>\n",
       "    .dataframe tbody tr th:only-of-type {\n",
       "        vertical-align: middle;\n",
       "    }\n",
       "\n",
       "    .dataframe tbody tr th {\n",
       "        vertical-align: top;\n",
       "    }\n",
       "\n",
       "    .dataframe thead th {\n",
       "        text-align: right;\n",
       "    }\n",
       "</style>\n",
       "<table border=\"1\" class=\"dataframe\">\n",
       "  <thead>\n",
       "    <tr style=\"text-align: right;\">\n",
       "      <th></th>\n",
       "      <th>pos</th>\n",
       "      <th>value</th>\n",
       "      <th>chr</th>\n",
       "      <th>reads</th>\n",
       "      <th>strand</th>\n",
       "    </tr>\n",
       "  </thead>\n",
       "  <tbody>\n",
       "    <tr>\n",
       "      <th>0</th>\n",
       "      <td>156</td>\n",
       "      <td>0.481988</td>\n",
       "      <td>1</td>\n",
       "      <td>1</td>\n",
       "      <td>+</td>\n",
       "    </tr>\n",
       "    <tr>\n",
       "      <th>1</th>\n",
       "      <td>5793</td>\n",
       "      <td>0.481988</td>\n",
       "      <td>1</td>\n",
       "      <td>1</td>\n",
       "      <td>+</td>\n",
       "    </tr>\n",
       "    <tr>\n",
       "      <th>2</th>\n",
       "      <td>5871</td>\n",
       "      <td>0.481988</td>\n",
       "      <td>1</td>\n",
       "      <td>1</td>\n",
       "      <td>+</td>\n",
       "    </tr>\n",
       "    <tr>\n",
       "      <th>3</th>\n",
       "      <td>5883</td>\n",
       "      <td>0.481988</td>\n",
       "      <td>1</td>\n",
       "      <td>1</td>\n",
       "      <td>+</td>\n",
       "    </tr>\n",
       "    <tr>\n",
       "      <th>4</th>\n",
       "      <td>5889</td>\n",
       "      <td>0.481988</td>\n",
       "      <td>1</td>\n",
       "      <td>1</td>\n",
       "      <td>+</td>\n",
       "    </tr>\n",
       "  </tbody>\n",
       "</table>\n",
       "</div>"
      ],
      "text/plain": [
       "    pos     value  chr  reads strand\n",
       "0   156  0.481988    1      1      +\n",
       "1  5793  0.481988    1      1      +\n",
       "2  5871  0.481988    1      1      +\n",
       "3  5883  0.481988    1      1      +\n",
       "4  5889  0.481988    1      1      +"
      ]
     },
     "execution_count": 6,
     "metadata": {},
     "output_type": "execute_result"
    }
   ],
   "source": [
    "net = pd.read_table(\"clean/net.txt\", sep=' ')\n",
    "net.head()"
   ]
  },
  {
   "cell_type": "markdown",
   "id": "018b01cd-dd39-4394-a492-350c72454ce7",
   "metadata": {},
   "source": [
    "First step is counting reads for each feature. If there is an overlap, I do a weighted split where the weight is the inverse of distance from the start site."
   ]
  },
  {
   "cell_type": "code",
   "execution_count": 7,
   "id": "7a02a8ff-61ad-4a12-a658-790d5acc9f58",
   "metadata": {},
   "outputs": [],
   "source": [
    "d = defaultdict(float)\n",
    "for n in net.itertuples():\n",
    "    # making the key\n",
    "    tup = (n.chr, n.pos, n.strand)\n",
    "    # check if the position is part of a feature\n",
    "    if tup in pos:\n",
    "        keys = pos.get(tup)\n",
    "        total = 0 # this is the denominator\n",
    "        checksum = 0\n",
    "        # on the + strand, check distance from start\n",
    "        if n.strand == \"+\":\n",
    "            # first find the denominator\n",
    "            for key in keys:\n",
    "                total += 1/(tup[1]-key.start + 1)                \n",
    "            # populate d with the weighted reads    \n",
    "            for key in keys:\n",
    "                d[key] += n.reads * (1/(tup[1]-key.start + 1)) / total\n",
    "                checksum += n.reads * (1/(tup[1]-key.start + 1)) / total\n",
    "        # on the - strand, check distance from end    \n",
    "        else:\n",
    "            # first find the denominator\n",
    "            for key in keys:\n",
    "                total += 1/(key.end - tup[1] + 1)\n",
    "            # populate d with the weighted reads    \n",
    "            for key in keys:\n",
    "                d[key] += n.reads * (1/(key.end - tup[1] + 1)) / total\n",
    "                checksum += n.reads * (1/(key.end - tup[1] + 1)) / total\n",
    "        # check that we assigned all reads somewhere\n",
    "        if n.reads != round(checksum):\n",
    "            print(n, \"failed checksum\")\n",
    "    # when position is not a part of any feature\n",
    "    else:\n",
    "        key = Feat(n.chr, n.pos, n.pos, n.strand, 'unannotated')\n",
    "        d[key] = n.reads"
   ]
  },
  {
   "cell_type": "code",
   "execution_count": 8,
   "id": "5248bbea-b7f6-4465-a068-6736a1dcae64",
   "metadata": {},
   "outputs": [],
   "source": [
    "expand = defaultdict(int)\n",
    "for row in d:\n",
    "    for i in range(row.start, row.end+1):\n",
    "        expand[(row.chr, i, row.strand)] += d[row]"
   ]
  },
  {
   "cell_type": "code",
   "execution_count": 9,
   "id": "b84b545e-1ddd-4ce0-a58f-144aa9fad117",
   "metadata": {},
   "outputs": [
    {
     "data": {
      "text/html": [
       "<div>\n",
       "<style scoped>\n",
       "    .dataframe tbody tr th:only-of-type {\n",
       "        vertical-align: middle;\n",
       "    }\n",
       "\n",
       "    .dataframe tbody tr th {\n",
       "        vertical-align: top;\n",
       "    }\n",
       "\n",
       "    .dataframe thead th {\n",
       "        text-align: right;\n",
       "    }\n",
       "</style>\n",
       "<table border=\"1\" class=\"dataframe\">\n",
       "  <thead>\n",
       "    <tr style=\"text-align: right;\">\n",
       "      <th></th>\n",
       "      <th>chr</th>\n",
       "      <th>pos</th>\n",
       "      <th>strand</th>\n",
       "      <th>reads</th>\n",
       "    </tr>\n",
       "  </thead>\n",
       "  <tbody>\n",
       "    <tr>\n",
       "      <th>0</th>\n",
       "      <td>1.0</td>\n",
       "      <td>156</td>\n",
       "      <td>+</td>\n",
       "      <td>1.0</td>\n",
       "    </tr>\n",
       "    <tr>\n",
       "      <th>1</th>\n",
       "      <td>1.0</td>\n",
       "      <td>5793</td>\n",
       "      <td>+</td>\n",
       "      <td>1.0</td>\n",
       "    </tr>\n",
       "    <tr>\n",
       "      <th>2</th>\n",
       "      <td>1.0</td>\n",
       "      <td>5871</td>\n",
       "      <td>+</td>\n",
       "      <td>1.0</td>\n",
       "    </tr>\n",
       "    <tr>\n",
       "      <th>3</th>\n",
       "      <td>1.0</td>\n",
       "      <td>5883</td>\n",
       "      <td>+</td>\n",
       "      <td>1.0</td>\n",
       "    </tr>\n",
       "    <tr>\n",
       "      <th>4</th>\n",
       "      <td>1.0</td>\n",
       "      <td>5889</td>\n",
       "      <td>+</td>\n",
       "      <td>1.0</td>\n",
       "    </tr>\n",
       "  </tbody>\n",
       "</table>\n",
       "</div>"
      ],
      "text/plain": [
       "   chr   pos strand  reads\n",
       "0  1.0   156      +    1.0\n",
       "1  1.0  5793      +    1.0\n",
       "2  1.0  5871      +    1.0\n",
       "3  1.0  5883      +    1.0\n",
       "4  1.0  5889      +    1.0"
      ]
     },
     "execution_count": 9,
     "metadata": {},
     "output_type": "execute_result"
    }
   ],
   "source": [
    "df = pd.DataFrame([expand])\n",
    "df = df.transpose()\n",
    "df = df.rename(columns={0: \"reads\"})\n",
    "df = df.reset_index(names = \"og_index\")\n",
    "df = pd.concat([pd.DataFrame(df[\"og_index\"].tolist(), columns = [\"chr\", \"pos\", \"strand\"]), df[[\"reads\"]]], axis=1) \n",
    "df.head()"
   ]
  },
  {
   "cell_type": "code",
   "execution_count": 10,
   "id": "63d8e0c4-4b3f-4a5a-ad38-2f2c09da23e8",
   "metadata": {},
   "outputs": [],
   "source": [
    "df.to_csv(\"test/net_processed.txt\", index=False)"
   ]
  },
  {
   "cell_type": "code",
   "execution_count": 11,
   "id": "85d52942-719d-4672-8a30-92c00443535b",
   "metadata": {},
   "outputs": [
    {
     "data": {
      "text/plain": [
       "778.1535000801086"
      ]
     },
     "execution_count": 11,
     "metadata": {},
     "output_type": "execute_result"
    }
   ],
   "source": [
    "t1 = time.time()\n",
    "t1-t0"
   ]
  }
 ],
 "metadata": {
  "kernelspec": {
   "display_name": "Python 3 (ipykernel)",
   "language": "python",
   "name": "python3"
  },
  "language_info": {
   "codemirror_mode": {
    "name": "ipython",
    "version": 3
   },
   "file_extension": ".py",
   "mimetype": "text/x-python",
   "name": "python",
   "nbconvert_exporter": "python",
   "pygments_lexer": "ipython3",
   "version": "3.12.5"
  }
 },
 "nbformat": 4,
 "nbformat_minor": 5
}
