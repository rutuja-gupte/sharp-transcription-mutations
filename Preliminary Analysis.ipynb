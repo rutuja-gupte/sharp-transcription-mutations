{
 "cells": [
  {
   "cell_type": "code",
   "execution_count": null,
   "id": "50181626",
   "metadata": {},
   "outputs": [],
   "source": []
  },
  {
   "cell_type": "code",
   "execution_count": 34,
   "id": "1da6bba7",
   "metadata": {},
   "outputs": [],
   "source": [
    "f = open(\"power_by_site_with_bases2.txt\")"
   ]
  },
  {
   "cell_type": "code",
   "execution_count": 35,
   "id": "a29b744f",
   "metadata": {},
   "outputs": [
    {
     "name": "stdout",
     "output_type": "stream",
     "text": [
      "chr01\t1\t0\t0\t0\t0\tC\n",
      "\n",
      "chr01\t2\t0\t0\t0\t0\tC\n",
      "\n",
      "chr01\t3\t0\t0\t0\t0\tA\n",
      "\n",
      "chr01\t4\t0\t0\t0\t0\tC\n",
      "\n",
      "chr01\t5\t0\t0\t0\t0\tA\n",
      "\n",
      "chr01\t6\t0\t0\t0\t0\tC\n",
      "\n",
      "chr01\t7\t0\t0\t0\t0\tC\n",
      "\n",
      "chr01\t8\t0\t0\t0\t0\tA\n",
      "\n",
      "chr01\t9\t0\t0\t0\t0\tC\n",
      "\n",
      "chr01\t10\t0\t0\t0\t0\tA\n",
      "\n"
     ]
    }
   ],
   "source": [
    "for i in range(10):\n",
    "    print(next(f))"
   ]
  },
  {
   "cell_type": "code",
   "execution_count": 36,
   "id": "4ca09fc2",
   "metadata": {},
   "outputs": [],
   "source": [
    "f.close()"
   ]
  },
  {
   "cell_type": "code",
   "execution_count": null,
   "id": "10ab38c0",
   "metadata": {},
   "outputs": [],
   "source": []
  }
 ],
 "metadata": {
  "kernelspec": {
   "display_name": "Python 3 (ipykernel)",
   "language": "python",
   "name": "python3"
  },
  "language_info": {
   "codemirror_mode": {
    "name": "ipython",
    "version": 3
   },
   "file_extension": ".py",
   "mimetype": "text/x-python",
   "name": "python",
   "nbconvert_exporter": "python",
   "pygments_lexer": "ipython3",
   "version": "3.9.13"
  }
 },
 "nbformat": 4,
 "nbformat_minor": 5
}
